{
    "cells": [
        {
            "cell_type": "markdown",
            "metadata": {
                "id": "HZvbbG9KLDzb"
            },
            "source": "<center>\n    <img src=\"https://gitlab.com/ibm/skills-network/courses/placeholder101/-/raw/master/labs/module%201/images/IDSNlogo.png\"  width=\"300\" alt=\"cognitiveclass.ai logo\"  />\n</center>\n\n<h1 align=center><font size = 5>Assignment: SQL Notebook for Peer Assignment</font></h1>\n\nEstimated time needed: **60** minutes.\n\n## Introduction\n\nUsing this Python notebook you will:\n\n1.  Understand the Spacex DataSet\n2.  Load the dataset  into the corresponding table in a Db2 database\n3.  Execute SQL queries to answer assignment questions\n"
        },
        {
            "cell_type": "markdown",
            "metadata": {
                "id": "-iHO9XSJLDzp"
            },
            "source": "## Overview of the DataSet\n\nSpaceX has gained worldwide attention for a series of historic milestones.\n\nIt is the only private company ever to return a spacecraft from low-earth orbit, which it first accomplished in December 2010.\nSpaceX advertises Falcon 9 rocket launches on its website with a cost of 62 million dollars wheras other providers cost upward of 165 million dollars each, much of the savings is because Space X can reuse the first stage.\n\nTherefore if we can determine if the first stage will land, we can determine the cost of a launch.\n\nThis information can be used if an alternate company wants to bid against SpaceX for a rocket launch.\n\nThis dataset includes a record for each payload carried during a SpaceX mission into outer space.\n"
        },
        {
            "cell_type": "markdown",
            "metadata": {
                "id": "JEIttZ6ALDzy"
            },
            "source": "### Download the datasets\n\nThis assignment requires you to load the spacex dataset.\n\nIn many cases the dataset to be analyzed is available as a .CSV (comma separated values) file, perhaps on the internet. Click on the link below to download and save the dataset (.CSV file):\n\n<a href=\"https://cf-courses-data.s3.us.cloud-object-storage.appdomain.cloud/IBM-DS0321EN-SkillsNetwork/labs/module_2/data/Spacex.csv?utm_medium=Exinfluencer&utm_source=Exinfluencer&utm_content=000026UJ&utm_term=10006555&utm_id=NA-SkillsNetwork-Channel-SkillsNetworkCoursesIBMDS0321ENSkillsNetwork26802033-2021-01-01\" target=\"_blank\">Spacex DataSet</a>\n"
        },
        {
            "cell_type": "markdown",
            "metadata": {
                "id": "NRXhHp6ALDz2"
            },
            "source": "### Store the dataset in database table\n\n**it is highly recommended to manually load the table using the database console LOAD tool in DB2**.\n\n<img src = \"https://cf-courses-data.s3.us.cloud-object-storage.appdomain.cloud/IBM-DS0321EN-SkillsNetwork/labs/module_2/images/spacexload.png\">\n\nNow open the Db2 console, open the LOAD tool, Select / Drag the .CSV file for the  dataset, Next create a New Table, and then follow the steps on-screen instructions to load the data. Name the new table as follows:\n\n**SPACEXDATASET**\n\n**Follow these steps while using old DB2 UI which is having Open Console Screen**\n\n**Note:While loading Spacex dataset, ensure that detect datatypes is disabled. Later click on the pencil icon(edit option).**\n\n1.  Change the Date Format by manually typing DD-MM-YYYY and timestamp format as DD-MM-YYYY HH\\:MM:SS\n\n2.  Change the PAYLOAD_MASS\\_\\_KG\\_  datatype  to INTEGER.\n\n<img src = \"https://cf-courses-data.s3.us.cloud-object-storage.appdomain.cloud/IBM-DS0321EN-SkillsNetwork/labs/module_2/images/spacexload2.png\">\n"
        },
        {
            "cell_type": "markdown",
            "metadata": {
                "id": "TJ5mPuLkLDz5"
            },
            "source": "**Changes to be considered when having DB2 instance with the new UI having Go to UI screen**\n\n*   Refer to this insruction in this <a href=\"https://cf-courses-data.s3.us.cloud-object-storage.appdomain.cloud/IBMDeveloperSkillsNetwork-DB0201EN-SkillsNetwork/labs/Labs_Coursera_V5/labs/Lab%20-%20Sign%20up%20for%20IBM%20Cloud%20-%20Create%20Db2%20service%20instance%20-%20Get%20started%20with%20the%20Db2%20console/instructional-labs.md.html?utm_medium=Exinfluencer&utm_source=Exinfluencer&utm_content=000026UJ&utm_term=10006555&utm_id=NA-SkillsNetwork-Channel-SkillsNetworkCoursesIBMDS0321ENSkillsNetwork26802033-2021-01-01\">link</a> for viewing  the new  Go to UI screen.\n\n*   Later click on **Data link(below SQL)**  in the Go to UI screen  and click on **Load Data** tab.\n\n*   Later browse for the downloaded spacex file.\n\n<img src=\"https://cf-courses-data.s3.us.cloud-object-storage.appdomain.cloud/IBM-DS0321EN-SkillsNetwork/labs/module_2/images/browsefile.png\" width=\"800\"/>\n\n*   Once done select the schema andload the file.\n\n <img src=\"https://cf-courses-data.s3.us.cloud-object-storage.appdomain.cloud/IBM-DS0321EN-SkillsNetwork/labs/module_2/images/spacexload3.png\" width=\"800\"/>\n"
        },
        {
            "cell_type": "code",
            "execution_count": 1,
            "metadata": {
                "id": "FTkLxhCULDz8"
            },
            "outputs": [],
            "source": "#!pip install sqlalchemy==1.3.9\n"
        },
        {
            "cell_type": "markdown",
            "metadata": {
                "id": "syQNvCLlLDz_"
            },
            "source": "### Connect to the database\n\nLet us first load the SQL extension and establish a connection with the database\n"
        },
        {
            "cell_type": "code",
            "execution_count": 2,
            "metadata": {
                "id": "zRFAppHqLD0D"
            },
            "outputs": [],
            "source": "%load_ext sql"
        },
        {
            "cell_type": "code",
            "execution_count": 3,
            "metadata": {
                "id": "UQWI5tQQLD0G"
            },
            "outputs": [],
            "source": "import csv, sqlite3\n\ncon = sqlite3.connect(\"my_data1.db\")\ncur = con.cursor()"
        },
        {
            "cell_type": "code",
            "execution_count": 4,
            "metadata": {
                "id": "348c8V1vLD0I"
            },
            "outputs": [],
            "source": "#!pip install -q pandas==1.1.5"
        },
        {
            "cell_type": "code",
            "execution_count": 5,
            "metadata": {
                "colab": {
                    "base_uri": "https://localhost:8080/",
                    "height": 39
                },
                "id": "OB6eFVLSLD0K",
                "outputId": "eacdbca0-3553-4d05-fdb6-727a49303373"
            },
            "outputs": [
                {
                    "data": {
                        "application/vnd.google.colaboratory.intrinsic+json": {
                            "type": "string"
                        },
                        "text/plain": "'Connected: @my_data1.db'"
                    },
                    "execution_count": 5,
                    "metadata": {},
                    "output_type": "execute_result"
                }
            ],
            "source": "%sql sqlite:///my_data1.db"
        },
        {
            "cell_type": "code",
            "execution_count": 6,
            "metadata": {
                "colab": {
                    "base_uri": "https://localhost:8080/"
                },
                "id": "-QfoVYWDLD0M",
                "outputId": "5ec9b68f-0b31-4206-b04e-7ee528ba40a9"
            },
            "outputs": [
                {
                    "name": "stderr",
                    "output_type": "stream",
                    "text": "/usr/local/lib/python3.7/dist-packages/pandas/core/generic.py:2615: UserWarning: The spaces in these column names will not be changed. In pandas versions < 0.14, spaces were converted to underscores.\n  method=method,\n"
                }
            ],
            "source": "import pandas as pd\ndf = pd.read_csv(\"https://cf-courses-data.s3.us.cloud-object-storage.appdomain.cloud/IBM-DS0321EN-SkillsNetwork/labs/module_2/data/Spacex.csv\")\ndf.to_sql(\"SPACEXTBL\", con, if_exists='replace', index=False,method=\"multi\")"
        },
        {
            "cell_type": "markdown",
            "metadata": {
                "id": "j-mdMDV1LD0b"
            },
            "source": "## Tasks\n\nNow write and execute SQL queries to solve the assignment tasks.\n\n**Note: If the column names are in mixed case enclose it in double quotes\nFor Example \"Landing_Outcome\"**\n\n### Task 1\n\n##### Display the names of the unique launch sites  in the space mission\n"
        },
        {
            "cell_type": "code",
            "execution_count": 7,
            "metadata": {
                "colab": {
                    "base_uri": "https://localhost:8080/",
                    "height": 285
                },
                "id": "1VtTvCHELD0c",
                "outputId": "796d243f-e6f7-46ca-b23c-7c41b67ec71c"
            },
            "outputs": [
                {
                    "name": "stdout",
                    "output_type": "stream",
                    "text": " * sqlite:///my_data1.db\nDone.\n"
                },
                {
                    "data": {
                        "text/html": "<table>\n    <thead>\n        <tr>\n            <th>Date</th>\n            <th>Time (UTC)</th>\n            <th>Booster_Version</th>\n            <th>Launch_Site</th>\n            <th>Payload</th>\n            <th>PAYLOAD_MASS__KG_</th>\n            <th>Orbit</th>\n            <th>Customer</th>\n            <th>Mission_Outcome</th>\n            <th>Landing _Outcome</th>\n        </tr>\n    </thead>\n    <tbody>\n        <tr>\n            <td>04-06-2010</td>\n            <td>18:45:00</td>\n            <td>F9 v1.0  B0003</td>\n            <td>CCAFS LC-40</td>\n            <td>Dragon Spacecraft Qualification Unit</td>\n            <td>0</td>\n            <td>LEO</td>\n            <td>SpaceX</td>\n            <td>Success</td>\n            <td>Failure (parachute)</td>\n        </tr>\n        <tr>\n            <td>08-12-2010</td>\n            <td>15:43:00</td>\n            <td>F9 v1.0  B0004</td>\n            <td>CCAFS LC-40</td>\n            <td>Dragon demo flight C1, two CubeSats, barrel of Brouere cheese</td>\n            <td>0</td>\n            <td>LEO (ISS)</td>\n            <td>NASA (COTS) NRO</td>\n            <td>Success</td>\n            <td>Failure (parachute)</td>\n        </tr>\n        <tr>\n            <td>22-05-2012</td>\n            <td>07:44:00</td>\n            <td>F9 v1.0  B0005</td>\n            <td>CCAFS LC-40</td>\n            <td>Dragon demo flight C2</td>\n            <td>525</td>\n            <td>LEO (ISS)</td>\n            <td>NASA (COTS)</td>\n            <td>Success</td>\n            <td>No attempt</td>\n        </tr>\n        <tr>\n            <td>08-10-2012</td>\n            <td>00:35:00</td>\n            <td>F9 v1.0  B0006</td>\n            <td>CCAFS LC-40</td>\n            <td>SpaceX CRS-1</td>\n            <td>500</td>\n            <td>LEO (ISS)</td>\n            <td>NASA (CRS)</td>\n            <td>Success</td>\n            <td>No attempt</td>\n        </tr>\n        <tr>\n            <td>01-03-2013</td>\n            <td>15:10:00</td>\n            <td>F9 v1.0  B0007</td>\n            <td>CCAFS LC-40</td>\n            <td>SpaceX CRS-2</td>\n            <td>677</td>\n            <td>LEO (ISS)</td>\n            <td>NASA (CRS)</td>\n            <td>Success</td>\n            <td>No attempt</td>\n        </tr>\n    </tbody>\n</table>",
                        "text/plain": "[('04-06-2010', '18:45:00', 'F9 v1.0  B0003', 'CCAFS LC-40', 'Dragon Spacecraft Qualification Unit', 0, 'LEO', 'SpaceX', 'Success', 'Failure (parachute)'),\n ('08-12-2010', '15:43:00', 'F9 v1.0  B0004', 'CCAFS LC-40', 'Dragon demo flight C1, two CubeSats, barrel of Brouere cheese', 0, 'LEO (ISS)', 'NASA (COTS) NRO', 'Success', 'Failure (parachute)'),\n ('22-05-2012', '07:44:00', 'F9 v1.0  B0005', 'CCAFS LC-40', 'Dragon demo flight C2', 525, 'LEO (ISS)', 'NASA (COTS)', 'Success', 'No attempt'),\n ('08-10-2012', '00:35:00', 'F9 v1.0  B0006', 'CCAFS LC-40', 'SpaceX CRS-1', 500, 'LEO (ISS)', 'NASA (CRS)', 'Success', 'No attempt'),\n ('01-03-2013', '15:10:00', 'F9 v1.0  B0007', 'CCAFS LC-40', 'SpaceX CRS-2', 677, 'LEO (ISS)', 'NASA (CRS)', 'Success', 'No attempt')]"
                    },
                    "execution_count": 7,
                    "metadata": {},
                    "output_type": "execute_result"
                }
            ],
            "source": "%sql select * from SPACEXTBL limit 5"
        },
        {
            "cell_type": "markdown",
            "metadata": {
                "id": "BwEmLjovLD0d"
            },
            "source": "### Task 2\n\n##### Display 5 records where launch sites begin with the string 'CCA'\n"
        },
        {
            "cell_type": "code",
            "execution_count": 8,
            "metadata": {
                "colab": {
                    "base_uri": "https://localhost:8080/",
                    "height": 285
                },
                "id": "TF_RCtHzLD0e",
                "outputId": "4111a463-0538-4deb-b760-6605b42a6325"
            },
            "outputs": [
                {
                    "name": "stdout",
                    "output_type": "stream",
                    "text": " * sqlite:///my_data1.db\nDone.\n"
                },
                {
                    "data": {
                        "text/html": "<table>\n    <thead>\n        <tr>\n            <th>Date</th>\n            <th>Time (UTC)</th>\n            <th>Booster_Version</th>\n            <th>Launch_Site</th>\n            <th>Payload</th>\n            <th>PAYLOAD_MASS__KG_</th>\n            <th>Orbit</th>\n            <th>Customer</th>\n            <th>Mission_Outcome</th>\n            <th>Landing _Outcome</th>\n        </tr>\n    </thead>\n    <tbody>\n        <tr>\n            <td>04-06-2010</td>\n            <td>18:45:00</td>\n            <td>F9 v1.0  B0003</td>\n            <td>CCAFS LC-40</td>\n            <td>Dragon Spacecraft Qualification Unit</td>\n            <td>0</td>\n            <td>LEO</td>\n            <td>SpaceX</td>\n            <td>Success</td>\n            <td>Failure (parachute)</td>\n        </tr>\n        <tr>\n            <td>08-12-2010</td>\n            <td>15:43:00</td>\n            <td>F9 v1.0  B0004</td>\n            <td>CCAFS LC-40</td>\n            <td>Dragon demo flight C1, two CubeSats, barrel of Brouere cheese</td>\n            <td>0</td>\n            <td>LEO (ISS)</td>\n            <td>NASA (COTS) NRO</td>\n            <td>Success</td>\n            <td>Failure (parachute)</td>\n        </tr>\n        <tr>\n            <td>22-05-2012</td>\n            <td>07:44:00</td>\n            <td>F9 v1.0  B0005</td>\n            <td>CCAFS LC-40</td>\n            <td>Dragon demo flight C2</td>\n            <td>525</td>\n            <td>LEO (ISS)</td>\n            <td>NASA (COTS)</td>\n            <td>Success</td>\n            <td>No attempt</td>\n        </tr>\n        <tr>\n            <td>08-10-2012</td>\n            <td>00:35:00</td>\n            <td>F9 v1.0  B0006</td>\n            <td>CCAFS LC-40</td>\n            <td>SpaceX CRS-1</td>\n            <td>500</td>\n            <td>LEO (ISS)</td>\n            <td>NASA (CRS)</td>\n            <td>Success</td>\n            <td>No attempt</td>\n        </tr>\n        <tr>\n            <td>01-03-2013</td>\n            <td>15:10:00</td>\n            <td>F9 v1.0  B0007</td>\n            <td>CCAFS LC-40</td>\n            <td>SpaceX CRS-2</td>\n            <td>677</td>\n            <td>LEO (ISS)</td>\n            <td>NASA (CRS)</td>\n            <td>Success</td>\n            <td>No attempt</td>\n        </tr>\n    </tbody>\n</table>",
                        "text/plain": "[('04-06-2010', '18:45:00', 'F9 v1.0  B0003', 'CCAFS LC-40', 'Dragon Spacecraft Qualification Unit', 0, 'LEO', 'SpaceX', 'Success', 'Failure (parachute)'),\n ('08-12-2010', '15:43:00', 'F9 v1.0  B0004', 'CCAFS LC-40', 'Dragon demo flight C1, two CubeSats, barrel of Brouere cheese', 0, 'LEO (ISS)', 'NASA (COTS) NRO', 'Success', 'Failure (parachute)'),\n ('22-05-2012', '07:44:00', 'F9 v1.0  B0005', 'CCAFS LC-40', 'Dragon demo flight C2', 525, 'LEO (ISS)', 'NASA (COTS)', 'Success', 'No attempt'),\n ('08-10-2012', '00:35:00', 'F9 v1.0  B0006', 'CCAFS LC-40', 'SpaceX CRS-1', 500, 'LEO (ISS)', 'NASA (CRS)', 'Success', 'No attempt'),\n ('01-03-2013', '15:10:00', 'F9 v1.0  B0007', 'CCAFS LC-40', 'SpaceX CRS-2', 677, 'LEO (ISS)', 'NASA (CRS)', 'Success', 'No attempt')]"
                    },
                    "execution_count": 8,
                    "metadata": {},
                    "output_type": "execute_result"
                }
            ],
            "source": "%sql select * from SPACEXTBL where Launch_Site like 'CCA%' limit 5"
        },
        {
            "cell_type": "markdown",
            "metadata": {
                "id": "q3rLV2uILD0f"
            },
            "source": "### Task 3\n\n##### Display the total payload mass carried by boosters launched by NASA (CRS)\n"
        },
        {
            "cell_type": "code",
            "execution_count": 9,
            "metadata": {
                "colab": {
                    "base_uri": "https://localhost:8080/",
                    "height": 96
                },
                "id": "JufsDwhFLD07",
                "outputId": "bbc4caf8-89a6-40a8-c13b-1e36ce3b7ad9"
            },
            "outputs": [
                {
                    "name": "stdout",
                    "output_type": "stream",
                    "text": " * sqlite:///my_data1.db\nDone.\n"
                },
                {
                    "data": {
                        "text/html": "<table>\n    <thead>\n        <tr>\n            <th>Customer</th>\n            <th>Total_payload_mass</th>\n        </tr>\n    </thead>\n    <tbody>\n        <tr>\n            <td>NASA (CRS)</td>\n            <td>45596</td>\n        </tr>\n    </tbody>\n</table>",
                        "text/plain": "[('NASA (CRS)', 45596)]"
                    },
                    "execution_count": 9,
                    "metadata": {},
                    "output_type": "execute_result"
                }
            ],
            "source": "%sql select Customer, sum(payload_mass__kg_) as Total_payload_mass from SPACEXTBL group by customer having customer = 'NASA (CRS)'"
        },
        {
            "cell_type": "markdown",
            "metadata": {
                "id": "GIewe6rBLD08"
            },
            "source": "### Task 4\n\n##### Display average payload mass carried by booster version F9 v1.1\n"
        },
        {
            "cell_type": "code",
            "execution_count": 10,
            "metadata": {
                "colab": {
                    "base_uri": "https://localhost:8080/",
                    "height": 96
                },
                "id": "e644sjowLD09",
                "outputId": "0d5c9b99-c35c-4b86-99b7-ced17db1f716"
            },
            "outputs": [
                {
                    "name": "stdout",
                    "output_type": "stream",
                    "text": " * sqlite:///my_data1.db\nDone.\n"
                },
                {
                    "data": {
                        "text/html": "<table>\n    <thead>\n        <tr>\n            <th>Booster_Version</th>\n            <th>average_payload_mass</th>\n        </tr>\n    </thead>\n    <tbody>\n        <tr>\n            <td>F9 v1.1</td>\n            <td>2928.4</td>\n        </tr>\n    </tbody>\n</table>",
                        "text/plain": "[('F9 v1.1', 2928.4)]"
                    },
                    "execution_count": 10,
                    "metadata": {},
                    "output_type": "execute_result"
                }
            ],
            "source": "%sql select booster_version, avg(payload_mass__kg_) as average_payload_mass from SPACEXTBL group by booster_version having booster_version = 'F9 v1.1'"
        },
        {
            "cell_type": "markdown",
            "metadata": {
                "id": "W8_mwdTvLD09"
            },
            "source": "### Task 5\n\n##### List the date when the first succesful landing outcome in ground pad was acheived.\n\n*Hint:Use min function*\n"
        },
        {
            "cell_type": "code",
            "execution_count": 11,
            "metadata": {
                "colab": {
                    "base_uri": "https://localhost:8080/",
                    "height": 96
                },
                "id": "de1twbEJLD0-",
                "outputId": "e96f626b-f42f-45e9-8aac-55afd4fd3a68"
            },
            "outputs": [
                {
                    "name": "stdout",
                    "output_type": "stream",
                    "text": " * sqlite:///my_data1.db\nDone.\n"
                },
                {
                    "data": {
                        "text/html": "<table>\n    <thead>\n        <tr>\n            <th>max(date)</th>\n            <th>Landing _Outcome</th>\n        </tr>\n    </thead>\n    <tbody>\n        <tr>\n            <td>22-12-2015</td>\n            <td>Success (ground pad)</td>\n        </tr>\n    </tbody>\n</table>",
                        "text/plain": "[('22-12-2015', 'Success (ground pad)')]"
                    },
                    "execution_count": 11,
                    "metadata": {},
                    "output_type": "execute_result"
                }
            ],
            "source": "%sql select max(date),\"landing _outcome\" from SPACEXTBL where \"Landing _Outcome\" = 'Success (ground pad)'"
        },
        {
            "cell_type": "code",
            "execution_count": 12,
            "metadata": {
                "colab": {
                    "base_uri": "https://localhost:8080/",
                    "height": 309
                },
                "id": "r8qQTfnWQHeD",
                "outputId": "20f918e8-be76-4294-c060-8d7a5f3b2a21"
            },
            "outputs": [
                {
                    "name": "stdout",
                    "output_type": "stream",
                    "text": " * sqlite:///my_data1.db\nDone.\n"
                },
                {
                    "data": {
                        "text/html": "<table>\n    <thead>\n        <tr>\n            <th>Landing _Outcome</th>\n        </tr>\n    </thead>\n    <tbody>\n        <tr>\n            <td>Controlled (ocean)</td>\n        </tr>\n        <tr>\n            <td>Failure</td>\n        </tr>\n        <tr>\n            <td>Failure (drone ship)</td>\n        </tr>\n        <tr>\n            <td>Failure (parachute)</td>\n        </tr>\n        <tr>\n            <td>No attempt</td>\n        </tr>\n        <tr>\n            <td>No attempt </td>\n        </tr>\n        <tr>\n            <td>Precluded (drone ship)</td>\n        </tr>\n        <tr>\n            <td>Success</td>\n        </tr>\n        <tr>\n            <td>Success (drone ship)</td>\n        </tr>\n        <tr>\n            <td>Success (ground pad)</td>\n        </tr>\n        <tr>\n            <td>Uncontrolled (ocean)</td>\n        </tr>\n    </tbody>\n</table>",
                        "text/plain": "[('Controlled (ocean)',),\n ('Failure',),\n ('Failure (drone ship)',),\n ('Failure (parachute)',),\n ('No attempt',),\n ('No attempt ',),\n ('Precluded (drone ship)',),\n ('Success',),\n ('Success (drone ship)',),\n ('Success (ground pad)',),\n ('Uncontrolled (ocean)',)]"
                    },
                    "execution_count": 12,
                    "metadata": {},
                    "output_type": "execute_result"
                }
            ],
            "source": "%sql select \"landing _outcome\" from SPACEXTBL group by \"Landing _Outcome\""
        },
        {
            "cell_type": "markdown",
            "metadata": {
                "id": "p1Xf0Jh6LD0_"
            },
            "source": "### Task 6\n\n##### List the names of the boosters which have success in drone ship and have payload mass greater than 4000 but less than 6000\n"
        },
        {
            "cell_type": "code",
            "execution_count": 13,
            "metadata": {
                "colab": {
                    "base_uri": "https://localhost:8080/",
                    "height": 633
                },
                "id": "DyzZj4zGRRaM",
                "outputId": "0dfe5040-40b9-434b-91e3-3533ba120630"
            },
            "outputs": [
                {
                    "name": "stdout",
                    "output_type": "stream",
                    "text": " * sqlite:///my_data1.db\nDone.\n"
                },
                {
                    "data": {
                        "text/html": "<table>\n    <thead>\n        <tr>\n            <th>Date</th>\n            <th>Time (UTC)</th>\n            <th>Booster_Version</th>\n            <th>Launch_Site</th>\n            <th>Payload</th>\n            <th>PAYLOAD_MASS__KG_</th>\n            <th>Orbit</th>\n            <th>Customer</th>\n            <th>Mission_Outcome</th>\n            <th>Landing _Outcome</th>\n        </tr>\n    </thead>\n    <tbody>\n        <tr>\n            <td>08-04-2016</td>\n            <td>20:43:00</td>\n            <td>F9 FT B1021.1</td>\n            <td>CCAFS LC-40</td>\n            <td>SpaceX CRS-8</td>\n            <td>3136</td>\n            <td>LEO (ISS)</td>\n            <td>NASA (CRS)</td>\n            <td>Success</td>\n            <td>Success (drone ship)</td>\n        </tr>\n        <tr>\n            <td>06-05-2016</td>\n            <td>05:21:00</td>\n            <td>F9 FT B1022</td>\n            <td>CCAFS LC-40</td>\n            <td>JCSAT-14</td>\n            <td>4696</td>\n            <td>GTO</td>\n            <td>SKY Perfect JSAT Group</td>\n            <td>Success</td>\n            <td>Success (drone ship)</td>\n        </tr>\n        <tr>\n            <td>27-05-2016</td>\n            <td>21:39:00</td>\n            <td>F9 FT B1023.1</td>\n            <td>CCAFS LC-40</td>\n            <td>Thaicom 8</td>\n            <td>3100</td>\n            <td>GTO</td>\n            <td>Thaicom</td>\n            <td>Success</td>\n            <td>Success (drone ship)</td>\n        </tr>\n        <tr>\n            <td>14-08-2016</td>\n            <td>05:26:00</td>\n            <td>F9 FT B1026</td>\n            <td>CCAFS LC-40</td>\n            <td>JCSAT-16</td>\n            <td>4600</td>\n            <td>GTO</td>\n            <td>SKY Perfect JSAT Group</td>\n            <td>Success</td>\n            <td>Success (drone ship)</td>\n        </tr>\n        <tr>\n            <td>14-01-2017</td>\n            <td>17:54:00</td>\n            <td>F9 FT B1029.1</td>\n            <td>VAFB SLC-4E</td>\n            <td>Iridium NEXT 1</td>\n            <td>9600</td>\n            <td>Polar LEO</td>\n            <td>Iridium Communications</td>\n            <td>Success</td>\n            <td>Success (drone ship)</td>\n        </tr>\n        <tr>\n            <td>30-03-2017</td>\n            <td>22:27:00</td>\n            <td>F9 FT  B1021.2</td>\n            <td>KSC LC-39A</td>\n            <td>SES-10</td>\n            <td>5300</td>\n            <td>GTO</td>\n            <td>SES</td>\n            <td>Success</td>\n            <td>Success (drone ship)</td>\n        </tr>\n        <tr>\n            <td>23-06-2017</td>\n            <td>19:10:00</td>\n            <td>F9 FT  B1029.2</td>\n            <td>KSC LC-39A</td>\n            <td>BulgariaSat-1</td>\n            <td>3669</td>\n            <td>GTO</td>\n            <td>Bulsatcom</td>\n            <td>Success</td>\n            <td>Success (drone ship)</td>\n        </tr>\n        <tr>\n            <td>25-06-2017</td>\n            <td>20:25:00</td>\n            <td>F9 FT B1036.1</td>\n            <td>VAFB SLC-4E</td>\n            <td>Iridium NEXT 2</td>\n            <td>9600</td>\n            <td>LEO</td>\n            <td>Iridium Communications</td>\n            <td>Success</td>\n            <td>Success (drone ship)</td>\n        </tr>\n        <tr>\n            <td>24-08-2017</td>\n            <td>18:51:00</td>\n            <td>F9 FT B1038.1</td>\n            <td>VAFB SLC-4E</td>\n            <td>Formosat-5</td>\n            <td>475</td>\n            <td>SSO</td>\n            <td>NSPO</td>\n            <td>Success</td>\n            <td>Success (drone ship)</td>\n        </tr>\n        <tr>\n            <td>09-10-2017</td>\n            <td>12:37:00</td>\n            <td>F9 B4 B1041.1</td>\n            <td>VAFB SLC-4E</td>\n            <td>Iridium NEXT 3</td>\n            <td>9600</td>\n            <td>Polar LEO</td>\n            <td>Iridium Communications</td>\n            <td>Success</td>\n            <td>Success (drone ship)</td>\n        </tr>\n        <tr>\n            <td>11-10-2017</td>\n            <td>22:53:00</td>\n            <td>F9 FT  B1031.2</td>\n            <td>KSC LC-39A</td>\n            <td>SES-11 / EchoStar 105</td>\n            <td>5200</td>\n            <td>GTO</td>\n            <td>SES EchoStar</td>\n            <td>Success</td>\n            <td>Success (drone ship)</td>\n        </tr>\n        <tr>\n            <td>30-10-2017</td>\n            <td>19:34:00</td>\n            <td>F9 B4 B1042.1</td>\n            <td>KSC LC-39A</td>\n            <td>Koreasat 5A</td>\n            <td>3500</td>\n            <td>GTO</td>\n            <td>KT Corporation</td>\n            <td>Success</td>\n            <td>Success (drone ship)</td>\n        </tr>\n        <tr>\n            <td>18-04-2018</td>\n            <td>22:51:00</td>\n            <td>F9 B4 B1045.1</td>\n            <td>CCAFS SLC-40</td>\n            <td>Transiting Exoplanet Survey Satellite (TESS)</td>\n            <td>362</td>\n            <td>HEO</td>\n            <td>NASA (LSP)</td>\n            <td>Success</td>\n            <td>Success (drone ship)</td>\n        </tr>\n        <tr>\n            <td>11-05-2018</td>\n            <td>20:14:00</td>\n            <td>F9 B5  B1046.1</td>\n            <td>KSC LC-39A</td>\n            <td>Bangabandhu-1</td>\n            <td>3600</td>\n            <td>GTO</td>\n            <td>Thales-Alenia/BTRC</td>\n            <td>Success</td>\n            <td>Success (drone ship)</td>\n        </tr>\n    </tbody>\n</table>",
                        "text/plain": "[('08-04-2016', '20:43:00', 'F9 FT B1021.1', 'CCAFS LC-40', 'SpaceX CRS-8', 3136, 'LEO (ISS)', 'NASA (CRS)', 'Success', 'Success (drone ship)'),\n ('06-05-2016', '05:21:00', 'F9 FT B1022', 'CCAFS LC-40', 'JCSAT-14', 4696, 'GTO', 'SKY Perfect JSAT Group', 'Success', 'Success (drone ship)'),\n ('27-05-2016', '21:39:00', 'F9 FT B1023.1', 'CCAFS LC-40', 'Thaicom 8', 3100, 'GTO', 'Thaicom', 'Success', 'Success (drone ship)'),\n ('14-08-2016', '05:26:00', 'F9 FT B1026', 'CCAFS LC-40', 'JCSAT-16', 4600, 'GTO', 'SKY Perfect JSAT Group', 'Success', 'Success (drone ship)'),\n ('14-01-2017', '17:54:00', 'F9 FT B1029.1', 'VAFB SLC-4E', 'Iridium NEXT 1', 9600, 'Polar LEO', 'Iridium Communications', 'Success', 'Success (drone ship)'),\n ('30-03-2017', '22:27:00', 'F9 FT  B1021.2', 'KSC LC-39A', 'SES-10', 5300, 'GTO', 'SES', 'Success', 'Success (drone ship)'),\n ('23-06-2017', '19:10:00', 'F9 FT  B1029.2', 'KSC LC-39A', 'BulgariaSat-1', 3669, 'GTO', 'Bulsatcom', 'Success', 'Success (drone ship)'),\n ('25-06-2017', '20:25:00', 'F9 FT B1036.1', 'VAFB SLC-4E', 'Iridium NEXT 2', 9600, 'LEO', 'Iridium Communications', 'Success', 'Success (drone ship)'),\n ('24-08-2017', '18:51:00', 'F9 FT B1038.1', 'VAFB SLC-4E', 'Formosat-5', 475, 'SSO', 'NSPO', 'Success', 'Success (drone ship)'),\n ('09-10-2017', '12:37:00', 'F9 B4 B1041.1', 'VAFB SLC-4E', 'Iridium NEXT 3', 9600, 'Polar LEO', 'Iridium Communications', 'Success', 'Success (drone ship)'),\n ('11-10-2017', '22:53:00', 'F9 FT  B1031.2', 'KSC LC-39A', 'SES-11 / EchoStar 105', 5200, 'GTO', 'SES EchoStar', 'Success', 'Success (drone ship)'),\n ('30-10-2017', '19:34:00', 'F9 B4 B1042.1', 'KSC LC-39A', 'Koreasat 5A', 3500, 'GTO', 'KT Corporation', 'Success', 'Success (drone ship)'),\n ('18-04-2018', '22:51:00', 'F9 B4 B1045.1', 'CCAFS SLC-40', 'Transiting Exoplanet Survey Satellite (TESS)', 362, 'HEO', 'NASA (LSP)', 'Success', 'Success (drone ship)'),\n ('11-05-2018', '20:14:00', 'F9 B5  B1046.1', 'KSC LC-39A', 'Bangabandhu-1', 3600, 'GTO', 'Thales-Alenia/BTRC', 'Success', 'Success (drone ship)')]"
                    },
                    "execution_count": 13,
                    "metadata": {},
                    "output_type": "execute_result"
                }
            ],
            "source": "%sql select * from SPACEXTBL where \"Landing _Outcome\" = 'Success (drone ship)' "
        },
        {
            "cell_type": "code",
            "execution_count": 14,
            "metadata": {
                "colab": {
                    "base_uri": "https://localhost:8080/",
                    "height": 160
                },
                "id": "qtliCiybP0VN",
                "outputId": "eb4d0f6d-da23-4ef4-dd12-a8467647b657"
            },
            "outputs": [
                {
                    "name": "stdout",
                    "output_type": "stream",
                    "text": " * sqlite:///my_data1.db\nDone.\n"
                },
                {
                    "data": {
                        "text/html": "<table>\n    <thead>\n        <tr>\n            <th>Booster_Version</th>\n        </tr>\n    </thead>\n    <tbody>\n        <tr>\n            <td>F9 FT B1022</td>\n        </tr>\n        <tr>\n            <td>F9 FT B1026</td>\n        </tr>\n        <tr>\n            <td>F9 FT  B1021.2</td>\n        </tr>\n        <tr>\n            <td>F9 FT  B1031.2</td>\n        </tr>\n    </tbody>\n</table>",
                        "text/plain": "[('F9 FT B1022',), ('F9 FT B1026',), ('F9 FT  B1021.2',), ('F9 FT  B1031.2',)]"
                    },
                    "execution_count": 14,
                    "metadata": {},
                    "output_type": "execute_result"
                }
            ],
            "source": "%sql select booster_version from SPACEXTBL \\\nwhere \"Landing _Outcome\" = 'Success (drone ship)' \\\nand payload_mass__kg_ between 4000 and 6000"
        },
        {
            "cell_type": "code",
            "execution_count": 15,
            "metadata": {
                "colab": {
                    "base_uri": "https://localhost:8080/",
                    "height": 285
                },
                "id": "QGRiAVOoLD0_",
                "outputId": "25cf8858-be07-42e4-b0e5-e648786dcef8"
            },
            "outputs": [
                {
                    "name": "stdout",
                    "output_type": "stream",
                    "text": " * sqlite:///my_data1.db\nDone.\n"
                },
                {
                    "data": {
                        "text/html": "<table>\n    <thead>\n        <tr>\n            <th>Date</th>\n            <th>Time (UTC)</th>\n            <th>Booster_Version</th>\n            <th>Launch_Site</th>\n            <th>Payload</th>\n            <th>PAYLOAD_MASS__KG_</th>\n            <th>Orbit</th>\n            <th>Customer</th>\n            <th>Mission_Outcome</th>\n            <th>Landing _Outcome</th>\n        </tr>\n    </thead>\n    <tbody>\n        <tr>\n            <td>04-06-2010</td>\n            <td>18:45:00</td>\n            <td>F9 v1.0  B0003</td>\n            <td>CCAFS LC-40</td>\n            <td>Dragon Spacecraft Qualification Unit</td>\n            <td>0</td>\n            <td>LEO</td>\n            <td>SpaceX</td>\n            <td>Success</td>\n            <td>Failure (parachute)</td>\n        </tr>\n        <tr>\n            <td>08-12-2010</td>\n            <td>15:43:00</td>\n            <td>F9 v1.0  B0004</td>\n            <td>CCAFS LC-40</td>\n            <td>Dragon demo flight C1, two CubeSats, barrel of Brouere cheese</td>\n            <td>0</td>\n            <td>LEO (ISS)</td>\n            <td>NASA (COTS) NRO</td>\n            <td>Success</td>\n            <td>Failure (parachute)</td>\n        </tr>\n        <tr>\n            <td>22-05-2012</td>\n            <td>07:44:00</td>\n            <td>F9 v1.0  B0005</td>\n            <td>CCAFS LC-40</td>\n            <td>Dragon demo flight C2</td>\n            <td>525</td>\n            <td>LEO (ISS)</td>\n            <td>NASA (COTS)</td>\n            <td>Success</td>\n            <td>No attempt</td>\n        </tr>\n        <tr>\n            <td>08-10-2012</td>\n            <td>00:35:00</td>\n            <td>F9 v1.0  B0006</td>\n            <td>CCAFS LC-40</td>\n            <td>SpaceX CRS-1</td>\n            <td>500</td>\n            <td>LEO (ISS)</td>\n            <td>NASA (CRS)</td>\n            <td>Success</td>\n            <td>No attempt</td>\n        </tr>\n        <tr>\n            <td>01-03-2013</td>\n            <td>15:10:00</td>\n            <td>F9 v1.0  B0007</td>\n            <td>CCAFS LC-40</td>\n            <td>SpaceX CRS-2</td>\n            <td>677</td>\n            <td>LEO (ISS)</td>\n            <td>NASA (CRS)</td>\n            <td>Success</td>\n            <td>No attempt</td>\n        </tr>\n    </tbody>\n</table>",
                        "text/plain": "[('04-06-2010', '18:45:00', 'F9 v1.0  B0003', 'CCAFS LC-40', 'Dragon Spacecraft Qualification Unit', 0, 'LEO', 'SpaceX', 'Success', 'Failure (parachute)'),\n ('08-12-2010', '15:43:00', 'F9 v1.0  B0004', 'CCAFS LC-40', 'Dragon demo flight C1, two CubeSats, barrel of Brouere cheese', 0, 'LEO (ISS)', 'NASA (COTS) NRO', 'Success', 'Failure (parachute)'),\n ('22-05-2012', '07:44:00', 'F9 v1.0  B0005', 'CCAFS LC-40', 'Dragon demo flight C2', 525, 'LEO (ISS)', 'NASA (COTS)', 'Success', 'No attempt'),\n ('08-10-2012', '00:35:00', 'F9 v1.0  B0006', 'CCAFS LC-40', 'SpaceX CRS-1', 500, 'LEO (ISS)', 'NASA (CRS)', 'Success', 'No attempt'),\n ('01-03-2013', '15:10:00', 'F9 v1.0  B0007', 'CCAFS LC-40', 'SpaceX CRS-2', 677, 'LEO (ISS)', 'NASA (CRS)', 'Success', 'No attempt')]"
                    },
                    "execution_count": 15,
                    "metadata": {},
                    "output_type": "execute_result"
                }
            ],
            "source": "%sql select * from SPACEXTBL LIMIT 5"
        },
        {
            "cell_type": "markdown",
            "metadata": {
                "id": "_fgs4wSTLD1A"
            },
            "source": "### Task 7\n\n##### List the total number of successful and failure mission outcomes\n"
        },
        {
            "cell_type": "code",
            "execution_count": 16,
            "metadata": {
                "colab": {
                    "base_uri": "https://localhost:8080/",
                    "height": 160
                },
                "id": "_AT1899kLD1B",
                "outputId": "baaa4eae-a38f-4641-ead2-a5ade6a6490f"
            },
            "outputs": [
                {
                    "name": "stdout",
                    "output_type": "stream",
                    "text": " * sqlite:///my_data1.db\nDone.\n"
                },
                {
                    "data": {
                        "text/html": "<table>\n    <thead>\n        <tr>\n            <th>Mission_Outcome</th>\n            <th>COUNT(Mission_Outcome)</th>\n        </tr>\n    </thead>\n    <tbody>\n        <tr>\n            <td>Failure (in flight)</td>\n            <td>1</td>\n        </tr>\n        <tr>\n            <td>Success</td>\n            <td>98</td>\n        </tr>\n        <tr>\n            <td>Success </td>\n            <td>1</td>\n        </tr>\n        <tr>\n            <td>Success (payload status unclear)</td>\n            <td>1</td>\n        </tr>\n    </tbody>\n</table>",
                        "text/plain": "[('Failure (in flight)', 1),\n ('Success', 98),\n ('Success ', 1),\n ('Success (payload status unclear)', 1)]"
                    },
                    "execution_count": 16,
                    "metadata": {},
                    "output_type": "execute_result"
                }
            ],
            "source": "%sql select Mission_Outcome , COUNT(Mission_Outcome) from SPACEXTBL group by Mission_Outcome"
        },
        {
            "cell_type": "markdown",
            "metadata": {
                "id": "BKHotZZMLD1B"
            },
            "source": "### Task 8\n\n##### List the   names of the booster_versions which have carried the maximum payload mass. Use a subquery\n"
        },
        {
            "cell_type": "code",
            "execution_count": 17,
            "metadata": {
                "colab": {
                    "base_uri": "https://localhost:8080/",
                    "height": 330
                },
                "id": "sfNhdXjaLD1C",
                "outputId": "5038d1d3-82cc-4d91-e5a7-00300299ab01"
            },
            "outputs": [
                {
                    "name": "stdout",
                    "output_type": "stream",
                    "text": " * sqlite:///my_data1.db\nDone.\n"
                },
                {
                    "data": {
                        "text/html": "<table>\n    <thead>\n        <tr>\n            <th>Booster_Version</th>\n        </tr>\n    </thead>\n    <tbody>\n        <tr>\n            <td>F9 B5 B1048.4</td>\n        </tr>\n        <tr>\n            <td>F9 B5 B1049.4</td>\n        </tr>\n        <tr>\n            <td>F9 B5 B1051.3</td>\n        </tr>\n        <tr>\n            <td>F9 B5 B1056.4</td>\n        </tr>\n        <tr>\n            <td>F9 B5 B1048.5</td>\n        </tr>\n        <tr>\n            <td>F9 B5 B1051.4</td>\n        </tr>\n        <tr>\n            <td>F9 B5 B1049.5</td>\n        </tr>\n        <tr>\n            <td>F9 B5 B1060.2 </td>\n        </tr>\n        <tr>\n            <td>F9 B5 B1058.3 </td>\n        </tr>\n        <tr>\n            <td>F9 B5 B1051.6</td>\n        </tr>\n        <tr>\n            <td>F9 B5 B1060.3</td>\n        </tr>\n        <tr>\n            <td>F9 B5 B1049.7 </td>\n        </tr>\n    </tbody>\n</table>",
                        "text/plain": "[('F9 B5 B1048.4',),\n ('F9 B5 B1049.4',),\n ('F9 B5 B1051.3',),\n ('F9 B5 B1056.4',),\n ('F9 B5 B1048.5',),\n ('F9 B5 B1051.4',),\n ('F9 B5 B1049.5',),\n ('F9 B5 B1060.2 ',),\n ('F9 B5 B1058.3 ',),\n ('F9 B5 B1051.6',),\n ('F9 B5 B1060.3',),\n ('F9 B5 B1049.7 ',)]"
                    },
                    "execution_count": 17,
                    "metadata": {},
                    "output_type": "execute_result"
                }
            ],
            "source": "%sql select booster_version from spacextbl where payload_mass__kg_ = (select max(payload_mass__kg_) from spacextbl)"
        },
        {
            "cell_type": "markdown",
            "metadata": {
                "id": "KekDW1lVLD1K"
            },
            "source": "### Task 9\n\n##### List the records which will display the month names, failure landing_outcomes in drone ship ,booster versions, launch_site for the months in year 2015.\n\n**Note: SQLLite does not support monthnames. So you need to use  substr(Date, 4, 2) as month to get the months and substr(Date,7,4)='2015' for year.**\n"
        },
        {
            "cell_type": "code",
            "execution_count": 18,
            "metadata": {
                "colab": {
                    "base_uri": "https://localhost:8080/",
                    "height": 118
                },
                "id": "dyL9wNx2LD1L",
                "outputId": "bb175001-b19a-4e59-c534-60aaf6e4a435"
            },
            "outputs": [
                {
                    "name": "stdout",
                    "output_type": "stream",
                    "text": " * sqlite:///my_data1.db\nDone.\n"
                },
                {
                    "data": {
                        "text/html": "<table>\n    <thead>\n        <tr>\n            <th>substr(Date, 4, 2)</th>\n            <th>Booster_Version</th>\n            <th>Launch_Site</th>\n            <th>Landing _Outcome</th>\n        </tr>\n    </thead>\n    <tbody>\n        <tr>\n            <td>01</td>\n            <td>F9 v1.1 B1012</td>\n            <td>CCAFS LC-40</td>\n            <td>Failure (drone ship)</td>\n        </tr>\n        <tr>\n            <td>04</td>\n            <td>F9 v1.1 B1015</td>\n            <td>CCAFS LC-40</td>\n            <td>Failure (drone ship)</td>\n        </tr>\n    </tbody>\n</table>",
                        "text/plain": "[('01', 'F9 v1.1 B1012', 'CCAFS LC-40', 'Failure (drone ship)'),\n ('04', 'F9 v1.1 B1015', 'CCAFS LC-40', 'Failure (drone ship)')]"
                    },
                    "execution_count": 18,
                    "metadata": {},
                    "output_type": "execute_result"
                }
            ],
            "source": "%sql select substr(Date, 4, 2), booster_version, launch_site, \"Landing _Outcome\" from SPACEXTBL where substr(Date,7,4) = '2015' and \"Landing _Outcome\" = 'Failure (drone ship)'"
        },
        {
            "cell_type": "markdown",
            "metadata": {
                "id": "vfph9jDvLD1L"
            },
            "source": "### Task 10\n\n##### Rank the  count of  successful landing_outcomes between the date 04-06-2010 and 20-03-2017 in descending order.\n"
        },
        {
            "cell_type": "code",
            "execution_count": 19,
            "metadata": {
                "colab": {
                    "base_uri": "https://localhost:8080/",
                    "height": 139
                },
                "id": "cklZZELD18MH",
                "outputId": "6d8ccd10-446d-494e-f881-e45f3e9a7a28"
            },
            "outputs": [
                {
                    "name": "stdout",
                    "output_type": "stream",
                    "text": " * sqlite:///my_data1.db\nDone.\n"
                },
                {
                    "data": {
                        "text/html": "<table>\n    <thead>\n        <tr>\n            <th>Landing _Outcome</th>\n            <th>count(&quot;Landing _Outcome&quot;)</th>\n        </tr>\n    </thead>\n    <tbody>\n        <tr>\n            <td>Success</td>\n            <td>38</td>\n        </tr>\n        <tr>\n            <td>Success (drone ship)</td>\n            <td>14</td>\n        </tr>\n        <tr>\n            <td>Success (ground pad)</td>\n            <td>9</td>\n        </tr>\n    </tbody>\n</table>",
                        "text/plain": "[('Success', 38), ('Success (drone ship)', 14), ('Success (ground pad)', 9)]"
                    },
                    "execution_count": 19,
                    "metadata": {},
                    "output_type": "execute_result"
                }
            ],
            "source": "%sql select \"Landing _Outcome\", count(\"Landing _Outcome\") from SPACEXTBL \\\ngroup by \"Landing _Outcome\" \\\nhaving Date between '04-06-2010' and '20-03-2017'\\\nand \"Landing _Outcome\" like 'Success%%'\\\norder by count(\"Landing _Outcome\") desc"
        },
        {
            "cell_type": "code",
            "execution_count": 20,
            "metadata": {
                "colab": {
                    "base_uri": "https://localhost:8080/",
                    "height": 208
                },
                "id": "XMmGWtekLD1L",
                "outputId": "00c30ae6-d94a-4a17-fc5c-66f52d73a908"
            },
            "outputs": [
                {
                    "name": "stdout",
                    "output_type": "stream",
                    "text": " * sqlite:///my_data1.db\nDone.\n"
                },
                {
                    "data": {
                        "text/html": "<table>\n    <thead>\n        <tr>\n            <th>Date</th>\n            <th>Time (UTC)</th>\n            <th>Booster_Version</th>\n            <th>Launch_Site</th>\n            <th>Payload</th>\n            <th>PAYLOAD_MASS__KG_</th>\n            <th>Orbit</th>\n            <th>Customer</th>\n            <th>Mission_Outcome</th>\n            <th>Landing _Outcome</th>\n        </tr>\n    </thead>\n    <tbody>\n        <tr>\n            <td>04-06-2010</td>\n            <td>18:45:00</td>\n            <td>F9 v1.0  B0003</td>\n            <td>CCAFS LC-40</td>\n            <td>Dragon Spacecraft Qualification Unit</td>\n            <td>0</td>\n            <td>LEO</td>\n            <td>SpaceX</td>\n            <td>Success</td>\n            <td>Failure (parachute)</td>\n        </tr>\n        <tr>\n            <td>08-12-2010</td>\n            <td>15:43:00</td>\n            <td>F9 v1.0  B0004</td>\n            <td>CCAFS LC-40</td>\n            <td>Dragon demo flight C1, two CubeSats, barrel of Brouere cheese</td>\n            <td>0</td>\n            <td>LEO (ISS)</td>\n            <td>NASA (COTS) NRO</td>\n            <td>Success</td>\n            <td>Failure (parachute)</td>\n        </tr>\n        <tr>\n            <td>22-05-2012</td>\n            <td>07:44:00</td>\n            <td>F9 v1.0  B0005</td>\n            <td>CCAFS LC-40</td>\n            <td>Dragon demo flight C2</td>\n            <td>525</td>\n            <td>LEO (ISS)</td>\n            <td>NASA (COTS)</td>\n            <td>Success</td>\n            <td>No attempt</td>\n        </tr>\n    </tbody>\n</table>",
                        "text/plain": "[('04-06-2010', '18:45:00', 'F9 v1.0  B0003', 'CCAFS LC-40', 'Dragon Spacecraft Qualification Unit', 0, 'LEO', 'SpaceX', 'Success', 'Failure (parachute)'),\n ('08-12-2010', '15:43:00', 'F9 v1.0  B0004', 'CCAFS LC-40', 'Dragon demo flight C1, two CubeSats, barrel of Brouere cheese', 0, 'LEO (ISS)', 'NASA (COTS) NRO', 'Success', 'Failure (parachute)'),\n ('22-05-2012', '07:44:00', 'F9 v1.0  B0005', 'CCAFS LC-40', 'Dragon demo flight C2', 525, 'LEO (ISS)', 'NASA (COTS)', 'Success', 'No attempt')]"
                    },
                    "execution_count": 20,
                    "metadata": {},
                    "output_type": "execute_result"
                }
            ],
            "source": "%sql select * from SPACEXTBL limit 3"
        },
        {
            "cell_type": "code",
            "execution_count": 21,
            "metadata": {
                "colab": {
                    "base_uri": "https://localhost:8080/",
                    "height": 160
                },
                "id": "igb1_T985024",
                "outputId": "c5fb6e61-7fda-45cd-b4eb-3a74ccd40642"
            },
            "outputs": [
                {
                    "name": "stdout",
                    "output_type": "stream",
                    "text": " * sqlite:///my_data1.db\nDone.\n"
                },
                {
                    "data": {
                        "text/html": "<table>\n    <thead>\n        <tr>\n            <th>Launch_Site</th>\n        </tr>\n    </thead>\n    <tbody>\n        <tr>\n            <td>CCAFS LC-40</td>\n        </tr>\n        <tr>\n            <td>VAFB SLC-4E</td>\n        </tr>\n        <tr>\n            <td>KSC LC-39A</td>\n        </tr>\n        <tr>\n            <td>CCAFS SLC-40</td>\n        </tr>\n    </tbody>\n</table>",
                        "text/plain": "[('CCAFS LC-40',), ('VAFB SLC-4E',), ('KSC LC-39A',), ('CCAFS SLC-40',)]"
                    },
                    "execution_count": 21,
                    "metadata": {},
                    "output_type": "execute_result"
                }
            ],
            "source": "\n%sql select distinct(Launch_Site) from SPACEXTBL"
        },
        {
            "cell_type": "markdown",
            "metadata": {
                "id": "qxqJ2DH3LD1M"
            },
            "source": "### Reference Links\n\n*   <a href =\"https://cf-courses-data.s3.us.cloud-object-storage.appdomain.cloud/IBMDeveloperSkillsNetwork-DB0201EN-SkillsNetwork/labs/Labs_Coursera_V5/labs/Lab%20-%20String%20Patterns%20-%20Sorting%20-%20Grouping/instructional-labs.md.html?utm_medium=Exinfluencer&utm_source=Exinfluencer&utm_content=000026UJ&utm_term=10006555&utm_id=NA-SkillsNetwork-Channel-SkillsNetworkCoursesIBMDS0321ENSkillsNetwork26802033-2021-01-01&origin=www.coursera.org\">Hands-on Lab : String Patterns, Sorting and Grouping</a>\n\n*   <a  href=\"https://cf-courses-data.s3.us.cloud-object-storage.appdomain.cloud/IBMDeveloperSkillsNetwork-DB0201EN-SkillsNetwork/labs/Labs_Coursera_V5/labs/Lab%20-%20Built-in%20functions%20/Hands-on_Lab__Built-in_Functions.md.html?utm_medium=Exinfluencer&utm_source=Exinfluencer&utm_content=000026UJ&utm_term=10006555&utm_id=NA-SkillsNetwork-Channel-SkillsNetworkCoursesIBMDS0321ENSkillsNetwork26802033-2021-01-01&origin=www.coursera.org\">Hands-on Lab: Built-in functions</a>\n\n*   <a  href=\"https://cf-courses-data.s3.us.cloud-object-storage.appdomain.cloud/IBMDeveloperSkillsNetwork-DB0201EN-SkillsNetwork/labs/Labs_Coursera_V5/labs/Lab%20-%20Sub-queries%20and%20Nested%20SELECTs%20/instructional-labs.md.html?utm_medium=Exinfluencer&utm_source=Exinfluencer&utm_content=000026UJ&utm_term=10006555&utm_id=NA-SkillsNetwork-Channel-SkillsNetworkCoursesIBMDS0321ENSkillsNetwork26802033-2021-01-01&origin=www.coursera.org\">Hands-on Lab : Sub-queries and Nested SELECT Statements</a>\n\n*   <a href=\"https://cf-courses-data.s3.us.cloud-object-storage.appdomain.cloud/IBMDeveloperSkillsNetwork-DB0201EN-SkillsNetwork/labs/Module%205/DB0201EN-Week3-1-3-SQLmagic.ipynb?utm_medium=Exinfluencer&utm_source=Exinfluencer&utm_content=000026UJ&utm_term=10006555&utm_id=NA-SkillsNetwork-Channel-SkillsNetworkCoursesIBMDS0321ENSkillsNetwork26802033-2021-01-01\">Hands-on Tutorial: Accessing Databases with SQL magic</a>\n\n*   <a href= \"https://cf-courses-data.s3.us.cloud-object-storage.appdomain.cloud/IBMDeveloperSkillsNetwork-DB0201EN-SkillsNetwork/labs/Module%205/DB0201EN-Week3-1-4-Analyzing.ipynb?utm_medium=Exinfluencer&utm_source=Exinfluencer&utm_content=000026UJ&utm_term=10006555&utm_id=NA-SkillsNetwork-Channel-SkillsNetworkCoursesIBMDS0321ENSkillsNetwork26802033-2021-01-01\">Hands-on Lab: Analyzing a real World Data Set</a>\n"
        },
        {
            "cell_type": "markdown",
            "metadata": {
                "id": "D-6ZTUIALD1N"
            },
            "source": "## Author(s)\n\n<h4> Lakshmi Holla </h4>\n"
        },
        {
            "cell_type": "markdown",
            "metadata": {
                "id": "0XN_rvmzLD1N"
            },
            "source": "## Other Contributors\n\n<h4> Rav Ahuja </h4>\n"
        },
        {
            "cell_type": "markdown",
            "metadata": {
                "id": "nTfSUgGuLD1O"
            },
            "source": "## Change log\n\n| Date       | Version | Changed by    | Change Description        |\n| ---------- | ------- | ------------- | ------------------------- |\n| 2021-07-09 | 0.2     | Lakshmi Holla | Changes made in magic sql |\n| 2021-05-20 | 0.1     | Lakshmi Holla | Created Initial Version   |\n"
        },
        {
            "cell_type": "markdown",
            "metadata": {
                "id": "jex2b-DGLD1O"
            },
            "source": "## <h3 align=\"center\"> \u00a9 IBM Corporation 2021. All rights reserved. <h3/>\n"
        }
    ],
    "metadata": {
        "colab": {
            "collapsed_sections": [],
            "name": "jupyter_labs_eda_sql_coursera_sqllite.ipynb",
            "provenance": []
        },
        "kernelspec": {
            "display_name": "Python 3",
            "language": "python",
            "name": "python3"
        },
        "language_info": {
            "codemirror_mode": {
                "name": "ipython",
                "version": 3
            },
            "file_extension": ".py",
            "mimetype": "text/x-python",
            "name": "python",
            "nbconvert_exporter": "python",
            "pygments_lexer": "ipython3",
            "version": "3.8.8"
        }
    },
    "nbformat": 4,
    "nbformat_minor": 0
}